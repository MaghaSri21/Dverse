{
  "nbformat": 4,
  "nbformat_minor": 0,
  "metadata": {
    "colab": {
      "provenance": [],
      "gpuType": "T4"
    },
    "kernelspec": {
      "name": "python3",
      "display_name": "Python 3"
    },
    "language_info": {
      "name": "python"
    },
    "accelerator": "GPU"
  },
  "cells": [
    {
      "cell_type": "markdown",
      "source": [
        "Using with Dataset without BERT"
      ],
      "metadata": {
        "id": "zS4qfmChrh6I"
      }
    },
    {
      "cell_type": "code",
      "source": [
        "import nltk\n",
        "import numpy as np\n",
        "import pandas as pd\n",
        "import string\n",
        "from sklearn.feature_extraction.text import TfidfVectorizer\n",
        "from sklearn.metrics.pairwise import cosine_similarity\n",
        "\n",
        "# Download required NLTK data\n",
        "nltk.download('punkt')\n",
        "\n",
        "# Load HDFC FAQ dataset from the text file\n",
        "file_path = \"/content/HDFC_Faq.txt\"  # Adjust the path if needed\n",
        "\n",
        "with open(file_path, \"r\", encoding=\"utf-8\") as file:\n",
        "    lines = file.readlines()\n",
        "\n",
        "# Preprocess the dataset (assuming questions and answers are separated by \":\")\n",
        "faq_data = {}\n",
        "for line in lines:\n",
        "    if \":\" in line:\n",
        "        question, answer = line.split(\":\", 1)  # Splitting at the first occurrence of \":\"\n",
        "        faq_data[question.strip()] = answer.strip()\n",
        "\n",
        "# Convert dictionary to DataFrame\n",
        "faq_df = pd.DataFrame(list(faq_data.items()), columns=[\"question\", \"answer\"])\n",
        "\n",
        "# Extract questions and answers\n",
        "questions = faq_df['question'].astype(str).tolist()\n",
        "answers = faq_df['answer'].astype(str).tolist()\n",
        "\n",
        "# Text preprocessing function\n",
        "def preprocess(text):\n",
        "    return text.lower().translate(str.maketrans('', '', string.punctuation))\n",
        "\n",
        "# Vectorize the FAQ questions using TF-IDF\n",
        "vectorizer = TfidfVectorizer(stop_words=\"english\")\n",
        "faq_vectors = vectorizer.fit_transform([preprocess(q) for q in questions])\n",
        "\n",
        "# Chatbot response function\n",
        "def chatbot_response(user_input):\n",
        "    user_input = preprocess(user_input)\n",
        "    user_vector = vectorizer.transform([user_input])\n",
        "\n",
        "    similarities = cosine_similarity(user_vector, faq_vectors)\n",
        "    best_match_index = np.argmax(similarities)\n",
        "\n",
        "    if similarities[0, best_match_index] > 0.2:  # Threshold for a valid match\n",
        "        return answers[best_match_index]\n",
        "    else:\n",
        "        return \"I'm sorry, I don't have an answer for that. Please contact customer support.\"\n",
        "\n",
        "# Chat loop\n",
        "print(\"Chatbot: Hello! Ask me an HDFC-related question or type 'exit' to quit.\")\n",
        "while True:\n",
        "    user_query = input(\"You: \")\n",
        "    if user_query.lower() == \"exit\":\n",
        "        print(\"Chatbot: Goodbye! Have a great day!\")\n",
        "        break\n",
        "    response = chatbot_response(user_query)\n",
        "    print(\"Chatbot:\", response)\n"
      ],
      "metadata": {
        "colab": {
          "base_uri": "https://localhost:8080/"
        },
        "id": "Q5hfBgUVGGLF",
        "outputId": "fe8ca8a0-a582-446a-d4a7-205354344a59"
      },
      "execution_count": 14,
      "outputs": [
        {
          "output_type": "stream",
          "name": "stderr",
          "text": [
            "[nltk_data] Downloading package punkt to /root/nltk_data...\n",
            "[nltk_data]   Package punkt is already up-to-date!\n"
          ]
        },
        {
          "output_type": "stream",
          "name": "stdout",
          "text": [
            "Chatbot: Hello! Ask me an HDFC-related question or type 'exit' to quit.\n",
            "You: How do I change my password\n",
            "Chatbot: I'm sorry, I don't have an answer for that. Please contact customer support.\n",
            "You: What is RTGS Funds Transfer?\n",
            "Chatbot: I'm sorry, I don't have an answer for that. Please contact customer support.\n",
            "You: How to make payment for Insta Loan / Insta Jumbo Loan / SmartEMI?\n",
            "Chatbot: I'm sorry, I don't have an answer for that. Please contact customer support.\n",
            "You: exit\n",
            "Chatbot: Goodbye! Have a great day!\n"
          ]
        }
      ]
    },
    {
      "cell_type": "markdown",
      "source": [
        "Using without Dataset"
      ],
      "metadata": {
        "id": "rvE4WpFjr1wv"
      }
    },
    {
      "cell_type": "code",
      "source": [
        "import nltk\n",
        "import numpy as np\n",
        "import pandas as pd\n",
        "import string\n",
        "from sklearn.feature_extraction.text import TfidfVectorizer\n",
        "from sklearn.metrics.pairwise import cosine_similarity\n",
        "\n",
        "# Download required NLTK data\n",
        "nltk.download('punkt')\n",
        "\n",
        "# Corrected FAQ dataset as a dictionary\n",
        "faq_data = {\n",
        "    \"What is your name?\": \"I am a chatbot designed to assist you.\",\n",
        "    \"How can I reset my password?\": \"To reset your password, go to the settings page and click 'Reset Password'.\",\n",
        "    \"What is the capital of France?\": \"The capital of France is Paris.\",\n",
        "    \"How do I contact customer support?\": \"You can contact customer support via email at support@example.com.\",\n",
        "    \"What are your working hours?\": \"Our support is available 24/7.\",\n",
        "    \"How do I track my order?\": \"You can track your order by logging into your account and clicking 'Track Order'.\",\n",
        "    \"What payment methods do you accept?\": \"We accept Visa, MasterCard, PayPal, and Apple Pay.\",\n",
        "    \"How do I return a product?\": \"To return a product, visit our returns page and follow the instructions.\",\n",
        "    \"Where are you located?\": \"We are located in San Francisco, CA.\",\n",
        "    \"How do I subscribe to your newsletter?\": \"You can subscribe by entering your email on our homepage.\",\n",
        "    \"What is the refund policy?\": \"Our refund policy allows returns within 30 days of purchase.\",\n",
        "    \"How do I apply for a job?\": \"You can apply for jobs on our Careers page.\",\n",
        "    \"Do you offer discounts for students?\": \"Yes, we offer special discounts for students with a valid ID.\",\n",
        "    \"What is your phone number?\": \"You can reach us at (123) 456-7890.\",\n",
        "    \"How can I update my billing information?\": \"You can update your billing details in the 'Billing' section of your account settings.\",\n",
        "    \"Do you have a mobile app?\": \"Yes, our mobile app is available for download on iOS and Android.\",\n",
        "    \"Can I change my shipping address after placing an order?\": \"Yes, you can modify your shipping address within 24 hours of placing your order.\",\n",
        "    \"Do you offer international shipping?\": \"Yes, we ship to most countries worldwide.\",\n",
        "    \"How do I cancel my subscription?\": \"To cancel your subscription, go to the 'Subscriptions' section of your account and select 'Cancel'.\",\n",
        "    \"Can I speak to a human agent?\": \"Yes, you can request to speak with a live agent by calling our support number or using the live chat feature.\"\n",
        "}\n",
        "\n",
        "# Convert dictionary to DataFrame correctly\n",
        "faq_df = pd.DataFrame(list(faq_data.items()), columns=[\"question\", \"answer\"])\n",
        "\n",
        "# Preprocess the dataset\n",
        "questions = faq_df['question'].astype(str).tolist()\n",
        "answers = faq_df['answer'].astype(str).tolist()\n",
        "\n",
        "def preprocess(text):\n",
        "    return text.lower().translate(str.maketrans('', '', string.punctuation))\n",
        "\n",
        "# Vectorize the FAQ questions\n",
        "vectorizer = TfidfVectorizer(stop_words=\"english\")\n",
        "faq_vectors = vectorizer.fit_transform([preprocess(q) for q in questions])\n",
        "\n",
        "# Chatbot response function\n",
        "def chatbot_response(user_input):\n",
        "    user_input = preprocess(user_input)\n",
        "    user_vector = vectorizer.transform([user_input])\n",
        "\n",
        "    similarities = cosine_similarity(user_vector, faq_vectors)\n",
        "    best_match_index = np.argmax(similarities)\n",
        "\n",
        "    if similarities[0, best_match_index] > 0.2:  # Threshold for matching\n",
        "        return answers[best_match_index]\n",
        "    else:\n",
        "        return \"I'm sorry, I don't have an answer for that.\"\n",
        "\n",
        "# Chat loop\n",
        "print(\"Chatbot: Hello! Ask me a question or type 'exit' to quit.\")\n",
        "while True:\n",
        "    user_query = input(\"You: \")\n",
        "    if user_query.lower() == \"exit\":\n",
        "        print(\"Chatbot: Goodbye!\")\n",
        "        break\n",
        "    response = chatbot_response(user_query)\n",
        "    print(\"Chatbot:\", response)\n"
      ],
      "metadata": {
        "colab": {
          "base_uri": "https://localhost:8080/"
        },
        "id": "znhamF6FJxie",
        "outputId": "f04dbe35-fb58-405f-a878-ad86494d556d"
      },
      "execution_count": 15,
      "outputs": [
        {
          "output_type": "stream",
          "name": "stderr",
          "text": [
            "[nltk_data] Downloading package punkt to /root/nltk_data...\n",
            "[nltk_data]   Package punkt is already up-to-date!\n"
          ]
        },
        {
          "output_type": "stream",
          "name": "stdout",
          "text": [
            "Chatbot: Hello! Ask me a question or type 'exit' to quit.\n",
            "You: How do I cancel my subscription?\n",
            "Chatbot: To cancel your subscription, go to the 'Subscriptions' section of your account and select 'Cancel'.\n",
            "You: What is your phone number?\n",
            "Chatbot: You can reach us at (123) 456-7890.\n",
            "You: What is RTGS Funds Transfer?\n",
            "Chatbot: I'm sorry, I don't have an answer for that.\n",
            "You: exit\n",
            "Chatbot: Goodbye!\n"
          ]
        }
      ]
    },
    {
      "cell_type": "markdown",
      "source": [
        "Using BERT model for ChatBot"
      ],
      "metadata": {
        "id": "lo9v9GHyykJ1"
      }
    },
    {
      "cell_type": "code",
      "source": [
        "import torch\n",
        "import nltk\n",
        "import numpy as np\n",
        "import pandas as pd\n",
        "import string\n",
        "from transformers import BertTokenizer, BertModel\n",
        "from sklearn.metrics.pairwise import cosine_similarity\n",
        "\n",
        "# Download required NLTK data\n",
        "nltk.download('punkt')\n",
        "\n",
        "# Load HDFC FAQ dataset from the text file\n",
        "file_path = \"/content/HDFC_Faq.txt\"\n",
        "\n",
        "# Load FAQ dataset\n",
        "faq_df = pd.read_json(file_path)\n",
        "\n",
        "# Extract questions and answers\n",
        "questions = faq_df['question'].astype(str).tolist()\n",
        "answers = faq_df['answer'].astype(str).tolist()\n",
        "\n",
        "# Load pre-trained BERT model & tokenizer\n",
        "tokenizer = BertTokenizer.from_pretrained(\"bert-base-uncased\")\n",
        "bert_model = BertModel.from_pretrained(\"bert-base-uncased\")\n",
        "\n",
        "# Function to convert text into BERT embeddings\n",
        "def get_bert_embedding(text):\n",
        "    tokens = tokenizer(text, padding=True, truncation=True, return_tensors=\"pt\")\n",
        "    with torch.no_grad():\n",
        "        output = bert_model(**tokens)\n",
        "    return output.last_hidden_state[:, 0, :].numpy().reshape(1, -1)\n",
        "\n",
        "# Generate BERT embeddings for all FAQ questions\n",
        "faq_embeddings = np.vstack([get_bert_embedding(q) for q in questions])\n",
        "\n",
        "# Chatbot response function\n",
        "def chatbot_response(user_input):\n",
        "    user_embedding = get_bert_embedding(user_input)  # Already 2D due to reshaping\n",
        "\n",
        "    # Compute cosine similarity\n",
        "    similarities = cosine_similarity(user_embedding, faq_embeddings)\n",
        "    best_match_index = np.argmax(similarities)\n",
        "\n",
        "    if similarities[0, best_match_index] > 0.5:  # Higher threshold for BERT\n",
        "        return answers[best_match_index]\n",
        "    else:\n",
        "        return \"I'm sorry, I don't have an answer for that. Please contact customer support.\"\n",
        "\n",
        "# Chat loop\n",
        "print(\"Chatbot (BERT): Hello! Ask me an HDFC-related question or type 'exit' to quit.\")\n",
        "while True:\n",
        "    user_query = input(\"You: \")\n",
        "    if user_query.lower() == \"exit\":\n",
        "        print(\"Chatbot: Goodbye! Have a great day!\")\n",
        "        break\n",
        "    response = chatbot_response(user_query)\n",
        "    print(\"Chatbot:\", response)\n"
      ],
      "metadata": {
        "colab": {
          "base_uri": "https://localhost:8080/"
        },
        "id": "A_ewXsNDttVw",
        "outputId": "00e716ea-b7c9-49bb-b14d-e64921283871"
      },
      "execution_count": 2,
      "outputs": [
        {
          "output_type": "stream",
          "name": "stderr",
          "text": [
            "[nltk_data] Downloading package punkt to /root/nltk_data...\n",
            "[nltk_data]   Package punkt is already up-to-date!\n"
          ]
        },
        {
          "output_type": "stream",
          "name": "stdout",
          "text": [
            "Chatbot (BERT): Hello! Ask me an HDFC-related question or type 'exit' to quit.\n",
            "You: How do I change my password?\n",
            "Chatbot: After you have logged in, you can change your password using the \"Change password\" option in the top part of the screen. You have to type your current password and the new password you have chosen in their respective boxes.\n",
            "You: Are there minimum or maximum limits for RTGS transfers?\n",
            "Chatbot: The RTGS system has been designed for large value transactions.The minimum amount to be remitted through RTGS is Rs. 2 Lakhs. There is no upper ceiling for RTGS transactions.The only change to this is RTGS transactions done through NetBanking, when the maximum amount of funds that can be transferred per Customer ID per day is Rs. 10 Lakhs.\n",
            "You: exit\n",
            "Chatbot: Goodbye! Have a great day!\n"
          ]
        }
      ]
    }
  ]
}